{
  "nbformat": 4,
  "nbformat_minor": 0,
  "metadata": {
    "colab": {
      "provenance": [],
      "authorship_tag": "ABX9TyOxMIGQDA/74LOZbGhTWMx8",
      "include_colab_link": true
    },
    "kernelspec": {
      "name": "python3",
      "display_name": "Python 3"
    },
    "language_info": {
      "name": "python"
    }
  },
  "cells": [
    {
      "cell_type": "markdown",
      "metadata": {
        "id": "view-in-github",
        "colab_type": "text"
      },
      "source": [
        "<a href=\"https://colab.research.google.com/github/Saswata020/-Sentiment-Analysis-of-Mobile-phone-reviews/blob/main/24_02_2025_Don%E2%80%99t_return_NONE_in_Python_to_handle_missing_values.ipynb\" target=\"_parent\"><img src=\"https://colab.research.google.com/assets/colab-badge.svg\" alt=\"Open In Colab\"/></a>"
      ]
    },
    {
      "cell_type": "markdown",
      "source": [
        "#**1. The Problem with Returning None**\n",
        "\n",
        "When you're writing Python code, you might encounter situations where a value is missing.\n",
        "\n",
        "For example, if you're fetching data from a dictionary and the key doesn't exist, you might be tempted to return None to indicate that the value is missing."
      ],
      "metadata": {
        "id": "77-kgv1mSjm9"
      }
    },
    {
      "cell_type": "code",
      "source": [
        "user_data = {\"name\": \"Kiran\", \"age\": 25,'email':'saswata.@gmail'}\n",
        "def get_email(user):\n",
        "    return user.get(\"email\")  # This will return None if key is missing\n"
      ],
      "metadata": {
        "id": "6FznsgFFSteO"
      },
      "execution_count": 6,
      "outputs": []
    },
    {
      "cell_type": "code",
      "execution_count": 7,
      "metadata": {
        "colab": {
          "base_uri": "https://localhost:8080/"
        },
        "id": "GUAmI-D3RbUK",
        "outputId": "cff91f9f-21d7-4dff-ae99-86fe9a69c580"
      },
      "outputs": [
        {
          "output_type": "stream",
          "name": "stdout",
          "text": [
            "SASWATA.@GMAIL\n"
          ]
        }
      ],
      "source": [
        "e = get_email(user_data)\n",
        "print(e.upper())  # AttributeError: 'NoneType' object has no attribute 'upper'"
      ]
    },
    {
      "cell_type": "code",
      "source": [
        "user_data = {\"name\": \"Kiran\", \"age\": 25}\n",
        "def get_email(user):\n",
        "    return user.get(\"email\")  # This will return None if key is missing\n",
        "e = get_email(user_data)\n",
        "print(e.upper())  # AttributeError: 'NoneType' object has no attribute 'upper'"
      ],
      "metadata": {
        "colab": {
          "base_uri": "https://localhost:8080/",
          "height": 176
        },
        "id": "2sZhcYFtTP_i",
        "outputId": "2024dc61-c859-4147-cb97-0ebc51fad36a"
      },
      "execution_count": 8,
      "outputs": [
        {
          "output_type": "error",
          "ename": "AttributeError",
          "evalue": "'NoneType' object has no attribute 'upper'",
          "traceback": [
            "\u001b[0;31m---------------------------------------------------------------------------\u001b[0m",
            "\u001b[0;31mAttributeError\u001b[0m                            Traceback (most recent call last)",
            "\u001b[0;32m<ipython-input-8-6b1bd651f092>\u001b[0m in \u001b[0;36m<cell line: 0>\u001b[0;34m()\u001b[0m\n\u001b[1;32m      3\u001b[0m     \u001b[0;32mreturn\u001b[0m \u001b[0muser\u001b[0m\u001b[0;34m.\u001b[0m\u001b[0mget\u001b[0m\u001b[0;34m(\u001b[0m\u001b[0;34m\"email\"\u001b[0m\u001b[0;34m)\u001b[0m  \u001b[0;31m# This will return None if key is missing\u001b[0m\u001b[0;34m\u001b[0m\u001b[0;34m\u001b[0m\u001b[0m\n\u001b[1;32m      4\u001b[0m \u001b[0me\u001b[0m \u001b[0;34m=\u001b[0m \u001b[0mget_email\u001b[0m\u001b[0;34m(\u001b[0m\u001b[0muser_data\u001b[0m\u001b[0;34m)\u001b[0m\u001b[0;34m\u001b[0m\u001b[0;34m\u001b[0m\u001b[0m\n\u001b[0;32m----> 5\u001b[0;31m \u001b[0mprint\u001b[0m\u001b[0;34m(\u001b[0m\u001b[0me\u001b[0m\u001b[0;34m.\u001b[0m\u001b[0mupper\u001b[0m\u001b[0;34m(\u001b[0m\u001b[0;34m)\u001b[0m\u001b[0;34m)\u001b[0m  \u001b[0;31m# AttributeError: 'NoneType' object has no attribute 'upper'\u001b[0m\u001b[0;34m\u001b[0m\u001b[0;34m\u001b[0m\u001b[0m\n\u001b[0m",
            "\u001b[0;31mAttributeError\u001b[0m: 'NoneType' object has no attribute 'upper'"
          ]
        }
      ]
    },
    {
      "cell_type": "markdown",
      "source": [
        "In this example, e will be None because the key \"email\" doesn't exist in the user_data dictionary.\n",
        "\n",
        " When you try to call e.upper(), Python will raise an AttributeError because None doesn't have an upper method."
      ],
      "metadata": {
        "id": "5qyPhQ6lS3YC"
      }
    },
    {
      "cell_type": "markdown",
      "source": [
        "**2. Why Returning None is Bad**\n",
        "\n",
        "Returning None can lead to unexpected errors in your code. You might need to add extra checks to handle None values, which can make your code more complicated and harder to debug.\n",
        "\n",
        "**3. Better Alternatives**\n",
        "\n",
        "Instead of returning None, you can use one of the following approaches:\n",
        "\n",
        "**3.1. Use Default Values**\n",
        "\n",
        "You can return a default value if the key is missing. This way, your program won't break when you try to use the result."
      ],
      "metadata": {
        "id": "LpHm-lyaThSy"
      }
    },
    {
      "cell_type": "code",
      "source": [
        "def get_username(user):\n",
        "    return user.get('name', \"Guest\")  # It will return a default value\n",
        "\n",
        "#In this example, if the key \"name\" is missing, the function will return \"Guest\" instead of None."
      ],
      "metadata": {
        "id": "XlJ1BpIzTg5T"
      },
      "execution_count": 10,
      "outputs": []
    },
    {
      "cell_type": "markdown",
      "source": [
        "**3.2. Raise an Exception**\n",
        "\n",
        "If missing data is a serious issue that requires immediate attention, you can raise an exception instead of returning None.\n"
      ],
      "metadata": {
        "id": "UHl_Dti8T16j"
      }
    },
    {
      "cell_type": "code",
      "source": [
        "def get_price(product):\n",
        "    if 'price' not in product:\n",
        "        raise ValueError(\"Product must have a price!\")\n",
        "    return product['price']"
      ],
      "metadata": {
        "id": "zSgWfm2DTbUy"
      },
      "execution_count": 11,
      "outputs": []
    },
    {
      "cell_type": "code",
      "source": [
        "try:\n",
        "    price = get_price(product)\n",
        "except ValueError as e:\n",
        "    print(f\"Error: {e}\")  # This will handle missing price properly"
      ],
      "metadata": {
        "colab": {
          "base_uri": "https://localhost:8080/",
          "height": 193
        },
        "id": "xsFo5oHvUHDZ",
        "outputId": "08621a73-c038-462f-b1b0-c6156315c230"
      },
      "execution_count": 12,
      "outputs": [
        {
          "output_type": "error",
          "ename": "NameError",
          "evalue": "name 'product' is not defined",
          "traceback": [
            "\u001b[0;31m---------------------------------------------------------------------------\u001b[0m",
            "\u001b[0;31mNameError\u001b[0m                                 Traceback (most recent call last)",
            "\u001b[0;32m<ipython-input-12-11db603fdc93>\u001b[0m in \u001b[0;36m<cell line: 0>\u001b[0;34m()\u001b[0m\n\u001b[1;32m      1\u001b[0m \u001b[0;32mtry\u001b[0m\u001b[0;34m:\u001b[0m\u001b[0;34m\u001b[0m\u001b[0;34m\u001b[0m\u001b[0m\n\u001b[0;32m----> 2\u001b[0;31m     \u001b[0mprice\u001b[0m \u001b[0;34m=\u001b[0m \u001b[0mget_price\u001b[0m\u001b[0;34m(\u001b[0m\u001b[0mproduct\u001b[0m\u001b[0;34m)\u001b[0m\u001b[0;34m\u001b[0m\u001b[0;34m\u001b[0m\u001b[0m\n\u001b[0m\u001b[1;32m      3\u001b[0m \u001b[0;32mexcept\u001b[0m \u001b[0mValueError\u001b[0m \u001b[0;32mas\u001b[0m \u001b[0me\u001b[0m\u001b[0;34m:\u001b[0m\u001b[0;34m\u001b[0m\u001b[0;34m\u001b[0m\u001b[0m\n\u001b[1;32m      4\u001b[0m     \u001b[0mprint\u001b[0m\u001b[0;34m(\u001b[0m\u001b[0;34mf\"Error: {e}\"\u001b[0m\u001b[0;34m)\u001b[0m  \u001b[0;31m# This will handle missing price properly\u001b[0m\u001b[0;34m\u001b[0m\u001b[0;34m\u001b[0m\u001b[0m\n",
            "\u001b[0;31mNameError\u001b[0m: name 'product' is not defined"
          ]
        }
      ]
    },
    {
      "cell_type": "markdown",
      "source": [
        "**Use a Custom Wrapper Class**\n",
        "\n",
        "You can create a custom class to represent missing values. This makes it clear when a value is missing, without relying on None."
      ],
      "metadata": {
        "id": "JNwF_6MjUf1b"
      }
    },
    {
      "cell_type": "code",
      "source": [
        "class Missing:\n",
        "    def __bool__(self):\n",
        "        return False\n",
        "\n",
        "MISSING = Missing()\n",
        "\n",
        "def get_email(user):\n",
        "    return user.get('email', MISSING)\n",
        "\n",
        "email = get_email({})\n",
        "\n",
        "if not email:\n",
        "    print(\"No email provided\")"
      ],
      "metadata": {
        "colab": {
          "base_uri": "https://localhost:8080/"
        },
        "id": "uEFldq1lUknm",
        "outputId": "01511bd4-6421-4d33-8807-4b1b4efea26d"
      },
      "execution_count": 13,
      "outputs": [
        {
          "output_type": "stream",
          "name": "stdout",
          "text": [
            "No email provided\n"
          ]
        }
      ]
    },
    {
      "cell_type": "markdown",
      "source": [],
      "metadata": {
        "id": "5pXhc4P9Ufj7"
      }
    }
  ]
}